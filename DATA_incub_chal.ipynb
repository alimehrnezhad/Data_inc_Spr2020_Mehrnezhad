{
 "cells": [
  {
   "cell_type": "code",
   "execution_count": 1,
   "metadata": {},
   "outputs": [],
   "source": [
    "import pandas as pd\n",
    "import numpy as np\n",
    "import matplotlib.pyplot as plt\n",
    "import seaborn as sns\n",
    "from pandas import ExcelWriter\n",
    "from pandas import ExcelFile"
   ]
  },
  {
   "cell_type": "markdown",
   "metadata": {},
   "source": [
    "- Section 1 - Part 1"
   ]
  },
  {
   "cell_type": "code",
   "execution_count": 677,
   "metadata": {},
   "outputs": [
    {
     "name": "stderr",
     "output_type": "stream",
     "text": [
      "/opt/anaconda3/lib/python3.7/site-packages/IPython/core/interactiveshell.py:3058: DtypeWarning: Columns (5,6,13,14,20,21,32,38,59,60,68,78,79) have mixed types. Specify dtype option on import or set low_memory=False.\n",
      "  interactivity=interactivity, compiler=compiler, result=result)\n"
     ]
    },
    {
     "data": {
      "text/html": [
       "<div>\n",
       "<style scoped>\n",
       "    .dataframe tbody tr th:only-of-type {\n",
       "        vertical-align: middle;\n",
       "    }\n",
       "\n",
       "    .dataframe tbody tr th {\n",
       "        vertical-align: top;\n",
       "    }\n",
       "\n",
       "    .dataframe thead th {\n",
       "        text-align: right;\n",
       "    }\n",
       "</style>\n",
       "<table border=\"1\" class=\"dataframe\">\n",
       "  <thead>\n",
       "    <tr style=\"text-align: right;\">\n",
       "      <th></th>\n",
       "      <th>Job #</th>\n",
       "      <th>Doc #</th>\n",
       "      <th>Borough</th>\n",
       "      <th>House #</th>\n",
       "      <th>Street Name</th>\n",
       "      <th>Block</th>\n",
       "      <th>Lot</th>\n",
       "      <th>Bin #</th>\n",
       "      <th>Job Type</th>\n",
       "      <th>Job Status</th>\n",
       "      <th>...</th>\n",
       "      <th>SPECIAL_ACTION_STATUS</th>\n",
       "      <th>SPECIAL_ACTION_DATE</th>\n",
       "      <th>BUILDING_CLASS</th>\n",
       "      <th>JOB_NO_GOOD_COUNT</th>\n",
       "      <th>GIS_LATITUDE</th>\n",
       "      <th>GIS_LONGITUDE</th>\n",
       "      <th>GIS_COUNCIL_DISTRICT</th>\n",
       "      <th>GIS_CENSUS_TRACT</th>\n",
       "      <th>GIS_NTA_NAME</th>\n",
       "      <th>GIS_BIN</th>\n",
       "    </tr>\n",
       "  </thead>\n",
       "  <tbody>\n",
       "    <tr>\n",
       "      <td>0</td>\n",
       "      <td>302181886</td>\n",
       "      <td>1</td>\n",
       "      <td>BROOKLYN</td>\n",
       "      <td>1414</td>\n",
       "      <td>WEST    4 STREET</td>\n",
       "      <td>6580</td>\n",
       "      <td>17</td>\n",
       "      <td>3424450</td>\n",
       "      <td>NB</td>\n",
       "      <td>X</td>\n",
       "      <td>...</td>\n",
       "      <td>N</td>\n",
       "      <td>NaN</td>\n",
       "      <td>D1</td>\n",
       "      <td>0</td>\n",
       "      <td>40.611742</td>\n",
       "      <td>-73.978426</td>\n",
       "      <td>44.0</td>\n",
       "      <td>434.0</td>\n",
       "      <td>Bensonhurst East</td>\n",
       "      <td>3173422.0</td>\n",
       "    </tr>\n",
       "    <tr>\n",
       "      <td>1</td>\n",
       "      <td>401620527</td>\n",
       "      <td>1</td>\n",
       "      <td>QUEENS</td>\n",
       "      <td>166-16</td>\n",
       "      <td>20 AVENUE</td>\n",
       "      <td>5751</td>\n",
       "      <td>12</td>\n",
       "      <td>4128968</td>\n",
       "      <td>A1</td>\n",
       "      <td>X</td>\n",
       "      <td>...</td>\n",
       "      <td>N</td>\n",
       "      <td>NaN</td>\n",
       "      <td>A1</td>\n",
       "      <td>0</td>\n",
       "      <td>40.779929</td>\n",
       "      <td>-73.797096</td>\n",
       "      <td>19.0</td>\n",
       "      <td>1017.0</td>\n",
       "      <td>Ft. Totten-Bay Terrace-Clearview</td>\n",
       "      <td>4128968.0</td>\n",
       "    </tr>\n",
       "    <tr>\n",
       "      <td>2</td>\n",
       "      <td>302343765</td>\n",
       "      <td>1</td>\n",
       "      <td>BROOKLYN</td>\n",
       "      <td>336</td>\n",
       "      <td>ST MARKS AVENUE</td>\n",
       "      <td>1153</td>\n",
       "      <td>23</td>\n",
       "      <td>3396401</td>\n",
       "      <td>A2</td>\n",
       "      <td>X</td>\n",
       "      <td>...</td>\n",
       "      <td>N</td>\n",
       "      <td>NaN</td>\n",
       "      <td>C1</td>\n",
       "      <td>0</td>\n",
       "      <td>40.677698</td>\n",
       "      <td>-73.964553</td>\n",
       "      <td>35.0</td>\n",
       "      <td>205.0</td>\n",
       "      <td>Prospect Heights</td>\n",
       "      <td>3396401.0</td>\n",
       "    </tr>\n",
       "    <tr>\n",
       "      <td>3</td>\n",
       "      <td>401624925</td>\n",
       "      <td>1</td>\n",
       "      <td>QUEENS</td>\n",
       "      <td>218-23</td>\n",
       "      <td>56 AVENUE</td>\n",
       "      <td>7404</td>\n",
       "      <td>124</td>\n",
       "      <td>4159229</td>\n",
       "      <td>A1</td>\n",
       "      <td>X</td>\n",
       "      <td>...</td>\n",
       "      <td>N</td>\n",
       "      <td>NaN</td>\n",
       "      <td>A1</td>\n",
       "      <td>0</td>\n",
       "      <td>40.751919</td>\n",
       "      <td>-73.761160</td>\n",
       "      <td>23.0</td>\n",
       "      <td>1441.0</td>\n",
       "      <td>Bayside-Bayside Hills</td>\n",
       "      <td>4159229.0</td>\n",
       "    </tr>\n",
       "    <tr>\n",
       "      <td>4</td>\n",
       "      <td>103828146</td>\n",
       "      <td>1</td>\n",
       "      <td>MANHATTAN</td>\n",
       "      <td>317</td>\n",
       "      <td>MADISON AVENUE</td>\n",
       "      <td>1277</td>\n",
       "      <td>20</td>\n",
       "      <td>1090825</td>\n",
       "      <td>A2</td>\n",
       "      <td>R</td>\n",
       "      <td>...</td>\n",
       "      <td>N</td>\n",
       "      <td>NaN</td>\n",
       "      <td>O4</td>\n",
       "      <td>0</td>\n",
       "      <td>40.753001</td>\n",
       "      <td>-73.978936</td>\n",
       "      <td>4.0</td>\n",
       "      <td>94.0</td>\n",
       "      <td>Midtown-Midtown South</td>\n",
       "      <td>1035349.0</td>\n",
       "    </tr>\n",
       "  </tbody>\n",
       "</table>\n",
       "<p>5 rows × 96 columns</p>\n",
       "</div>"
      ],
      "text/plain": [
       "       Job #  Doc #    Borough House #       Street Name Block  Lot    Bin #  \\\n",
       "0  302181886      1   BROOKLYN    1414  WEST    4 STREET  6580   17  3424450   \n",
       "1  401620527      1     QUEENS  166-16         20 AVENUE  5751   12  4128968   \n",
       "2  302343765      1   BROOKLYN     336   ST MARKS AVENUE  1153   23  3396401   \n",
       "3  401624925      1     QUEENS  218-23         56 AVENUE  7404  124  4159229   \n",
       "4  103828146      1  MANHATTAN     317    MADISON AVENUE  1277   20  1090825   \n",
       "\n",
       "  Job Type Job Status  ... SPECIAL_ACTION_STATUS SPECIAL_ACTION_DATE  \\\n",
       "0       NB          X  ...                     N                 NaN   \n",
       "1       A1          X  ...                     N                 NaN   \n",
       "2       A2          X  ...                     N                 NaN   \n",
       "3       A1          X  ...                     N                 NaN   \n",
       "4       A2          R  ...                     N                 NaN   \n",
       "\n",
       "  BUILDING_CLASS JOB_NO_GOOD_COUNT GIS_LATITUDE GIS_LONGITUDE  \\\n",
       "0             D1                 0    40.611742    -73.978426   \n",
       "1             A1                 0    40.779929    -73.797096   \n",
       "2             C1                 0    40.677698    -73.964553   \n",
       "3             A1                 0    40.751919    -73.761160   \n",
       "4             O4                 0    40.753001    -73.978936   \n",
       "\n",
       "  GIS_COUNCIL_DISTRICT GIS_CENSUS_TRACT                      GIS_NTA_NAME  \\\n",
       "0                 44.0            434.0                  Bensonhurst East   \n",
       "1                 19.0           1017.0  Ft. Totten-Bay Terrace-Clearview   \n",
       "2                 35.0            205.0                  Prospect Heights   \n",
       "3                 23.0           1441.0             Bayside-Bayside Hills   \n",
       "4                  4.0             94.0             Midtown-Midtown South   \n",
       "\n",
       "     GIS_BIN  \n",
       "0  3173422.0  \n",
       "1  4128968.0  \n",
       "2  3396401.0  \n",
       "3  4159229.0  \n",
       "4  1035349.0  \n",
       "\n",
       "[5 rows x 96 columns]"
      ]
     },
     "execution_count": 677,
     "metadata": {},
     "output_type": "execute_result"
    }
   ],
   "source": [
    "address='/Users/Ali/Downloads/DOB_Job_Application_Filings.csv'\n",
    "df=pd.read_csv(address)\n",
    "df.head()"
   ]
  },
  {
   "cell_type": "code",
   "execution_count": 691,
   "metadata": {},
   "outputs": [],
   "source": [
    "mask1=df['Doc #']==1\n",
    "df_doc1=df[mask1]"
   ]
  },
  {
   "cell_type": "code",
   "execution_count": 693,
   "metadata": {},
   "outputs": [
    {
     "data": {
      "text/plain": [
       "1527839"
      ]
     },
     "execution_count": 693,
     "metadata": {},
     "output_type": "execute_result"
    }
   ],
   "source": [
    "#df_doc1.groupby(['Job #']).sum()\n",
    "#df_doc1['Job #'].value_counts()\n",
    "len(df_doc1)"
   ]
  },
  {
   "cell_type": "code",
   "execution_count": 699,
   "metadata": {},
   "outputs": [
    {
     "name": "stderr",
     "output_type": "stream",
     "text": [
      "/opt/anaconda3/lib/python3.7/site-packages/ipykernel_launcher.py:1: SettingWithCopyWarning: \n",
      "A value is trying to be set on a copy of a slice from a DataFrame\n",
      "\n",
      "See the caveats in the documentation: http://pandas.pydata.org/pandas-docs/stable/user_guide/indexing.html#returning-a-view-versus-a-copy\n",
      "  \"\"\"Entry point for launching an IPython kernel.\n"
     ]
    },
    {
     "data": {
      "text/plain": [
       "1527798"
      ]
     },
     "execution_count": 699,
     "metadata": {},
     "output_type": "execute_result"
    }
   ],
   "source": [
    "df_doc1.drop_duplicates(subset='Job #',keep='last',inplace=True)\n",
    "len(df_doc1)"
   ]
  },
  {
   "cell_type": "code",
   "execution_count": 700,
   "metadata": {},
   "outputs": [
    {
     "name": "stderr",
     "output_type": "stream",
     "text": [
      "/opt/anaconda3/lib/python3.7/site-packages/ipykernel_launcher.py:9: SettingWithCopyWarning: \n",
      "A value is trying to be set on a copy of a slice from a DataFrame.\n",
      "Try using .loc[row_indexer,col_indexer] = value instead\n",
      "\n",
      "See the caveats in the documentation: http://pandas.pydata.org/pandas-docs/stable/user_guide/indexing.html#returning-a-view-versus-a-copy\n",
      "  if __name__ == '__main__':\n"
     ]
    }
   ],
   "source": [
    "from datetime import datetime\n",
    "\n",
    "result = [] \n",
    "for date in df_doc1['Pre- Filing Date']:\n",
    "    \n",
    "    objDate=datetime.strptime(date, '%m/%d/%Y')\n",
    "    file_year=datetime.strftime(objDate,'%Y')\n",
    "    result.append(file_year) \n",
    "df_doc1['file_year']=result"
   ]
  },
  {
   "cell_type": "code",
   "execution_count": 701,
   "metadata": {},
   "outputs": [],
   "source": [
    "mask2=df_doc1['file_year']=='2018'\n",
    "df_2018=df_doc1[mask2]"
   ]
  },
  {
   "cell_type": "code",
   "execution_count": 703,
   "metadata": {},
   "outputs": [
    {
     "data": {
      "text/plain": [
       "84037"
      ]
     },
     "execution_count": 703,
     "metadata": {},
     "output_type": "execute_result"
    }
   ],
   "source": [
    "unique_job_2018=len(df_2018)\n",
    "unique_job_2018"
   ]
  },
  {
   "cell_type": "markdown",
   "metadata": {},
   "source": [
    "- Section 1 - Part 2"
   ]
  },
  {
   "cell_type": "code",
   "execution_count": 704,
   "metadata": {},
   "outputs": [
    {
     "data": {
      "text/plain": [
       "(546391, 97)"
      ]
     },
     "execution_count": 704,
     "metadata": {},
     "output_type": "execute_result"
    }
   ],
   "source": [
    "mask3=(df_doc1['file_year']>='2013') & (df_doc1['file_year']<='2018')\n",
    "df_2013=df_doc1[mask3] \n",
    "df_2013.shape"
   ]
  },
  {
   "cell_type": "code",
   "execution_count": 254,
   "metadata": {},
   "outputs": [
    {
     "data": {
      "text/plain": [
       "array(['PARTNERSHIP', \"OTHER GOV'T AGENCY\", 'INDIVIDUAL', 'CORPORATION',\n",
       "       'OTHER', 'CONDO/CO-OP', 'NYC AGENCY', 'NYCHA/HHC', 'DOE', 'HPD',\n",
       "       'NYCHA', 'NY STATE', 'HHC', 'DCAS'], dtype=object)"
      ]
     },
     "execution_count": 254,
     "metadata": {},
     "output_type": "execute_result"
    }
   ],
   "source": [
    "df_2013['Owner Type'].unique()"
   ]
  },
  {
   "cell_type": "code",
   "execution_count": 705,
   "metadata": {},
   "outputs": [
    {
     "name": "stdout",
     "output_type": "stream",
     "text": [
      "0.48112714117595784\n",
      "0.7700307306688642\n",
      "0.40593856255129557\n",
      "0.5342074336935733\n",
      "0.29053873849846645\n"
     ]
    }
   ],
   "source": [
    "Prop=df_2013.groupby(['Borough'])['Owner Type'].value_counts(normalize=True)\n",
    "\n",
    "print(Prop['BROOKLYN','CORPORATION']+Prop['BROOKLYN','PARTNERSHIP'])\n",
    "print(Prop['MANHATTAN','CORPORATION']+Prop['MANHATTAN','PARTNERSHIP'])\n",
    "print(Prop['QUEENS','CORPORATION']+Prop['QUEENS','PARTNERSHIP'])\n",
    "print(Prop['BRONX','CORPORATION']+Prop['BRONX','PARTNERSHIP'])\n",
    "print(Prop['STATEN ISLAND','CORPORATION']+Prop['STATEN ISLAND','PARTNERSHIP'])"
   ]
  },
  {
   "cell_type": "code",
   "execution_count": 706,
   "metadata": {},
   "outputs": [
    {
     "data": {
      "text/plain": [
       "1.4414451804700297"
      ]
     },
     "execution_count": 706,
     "metadata": {},
     "output_type": "execute_result"
    }
   ],
   "source": [
    "ratio=0.7700307306688642/0.5342074336935733\n",
    "ratio"
   ]
  },
  {
   "cell_type": "markdown",
   "metadata": {},
   "source": [
    "- Section 1 - Part 3"
   ]
  },
  {
   "cell_type": "code",
   "execution_count": 707,
   "metadata": {},
   "outputs": [
    {
     "data": {
      "text/plain": [
       "array(['A2', 'A1', 'PA', 'DM', 'NB', 'A3', 'SI', 'SC'], dtype=object)"
      ]
     },
     "execution_count": 707,
     "metadata": {},
     "output_type": "execute_result"
    }
   ],
   "source": [
    "df_2018['Job Type'].unique()"
   ]
  },
  {
   "cell_type": "code",
   "execution_count": 734,
   "metadata": {},
   "outputs": [],
   "source": [
    "Prop2=df_2018.groupby(['Borough'])['Job Type'].value_counts(normalize=False)\n",
    "New_build=Prop2[:,'NB']\n",
    "NB=New_build.to_frame()\n",
    "Sqr_mil = [42.10, 70.82, 22.83, 108.53,58.37] # captured from wikipedia\n",
    "NB['Sqr_mil']=Sqr_mil\n",
    "NB['ratio']=NB['Job Type']/NB['Sqr_mil']\n",
    "NB.sort_values(by=['ratio'],ascending=False,inplace=True)\n"
   ]
  },
  {
   "cell_type": "code",
   "execution_count": 733,
   "metadata": {},
   "outputs": [
    {
     "data": {
      "text/plain": [
       "1.280480189557908"
      ]
     },
     "execution_count": 733,
     "metadata": {},
     "output_type": "execute_result"
    }
   ],
   "source": [
    "ratio2=NB.iloc[0]['ratio']/NB.iloc[1]['ratio']\n",
    "ratio2"
   ]
  },
  {
   "cell_type": "markdown",
   "metadata": {},
   "source": [
    "- Section 1 - Part 4"
   ]
  },
  {
   "cell_type": "code",
   "execution_count": 335,
   "metadata": {},
   "outputs": [
    {
     "data": {
      "text/plain": [
       "array(['A2', 'A3', 'PA', 'A1', 'NB', 'DM', 'SI', 'SC', 'SG'], dtype=object)"
      ]
     },
     "execution_count": 335,
     "metadata": {},
     "output_type": "execute_result"
    }
   ],
   "source": [
    "df_2013['Job Type'].unique()\n"
   ]
  },
  {
   "cell_type": "code",
   "execution_count": 735,
   "metadata": {},
   "outputs": [
    {
     "name": "stderr",
     "output_type": "stream",
     "text": [
      "/opt/anaconda3/lib/python3.7/site-packages/ipykernel_launcher.py:2: UserWarning: Boolean Series key will be reindexed to match DataFrame index.\n",
      "  \n"
     ]
    }
   ],
   "source": [
    "mask4=(df_2013['Existing Occupancy']=='RES') & (df_doc1['Job Type']=='A1')\n",
    "df_subset=df_2013[mask4]"
   ]
  },
  {
   "cell_type": "code",
   "execution_count": 737,
   "metadata": {},
   "outputs": [
    {
     "data": {
      "text/plain": [
       "0.33969699623434624"
      ]
     },
     "execution_count": 737,
     "metadata": {},
     "output_type": "execute_result"
    }
   ],
   "source": [
    "feat_sub=['Existing Dwelling Units','Proposed Dwelling Units']\n",
    "df_subset=df_subset[feat_sub]\n",
    "df_subset.dropna(inplace=True)\n",
    "df_subset.shape\n",
    "df_subset['Proposed Dwelling Units']=df_subset['Proposed Dwelling Units'].astype('int64')\n",
    "df_subset['Existing Dwelling Units']=df_subset['Existing Dwelling Units'].astype('int64')\n",
    "mask5=df_subset['Proposed Dwelling Units']>df_subset['Existing Dwelling Units']\n",
    "df_sub_inc=df_subset[mask5]\n",
    "ratio3=len(df_sub_inc)/len(df_subset)\n",
    "ratio3"
   ]
  },
  {
   "cell_type": "markdown",
   "metadata": {},
   "source": [
    "- Section 1 - Part 5"
   ]
  },
  {
   "cell_type": "code",
   "execution_count": 375,
   "metadata": {},
   "outputs": [
    {
     "data": {
      "text/plain": [
       "(232992, 97)"
      ]
     },
     "execution_count": 375,
     "metadata": {},
     "output_type": "execute_result"
    }
   ],
   "source": [
    "mask6=df_2013['Borough']=='MANHATTAN'\n",
    "df_manh=df_2013[mask6]\n",
    "df_manh.shape"
   ]
  },
  {
   "cell_type": "code",
   "execution_count": 740,
   "metadata": {},
   "outputs": [
    {
     "data": {
      "text/plain": [
       "0.3187542440891413"
      ]
     },
     "execution_count": 740,
     "metadata": {},
     "output_type": "execute_result"
    }
   ],
   "source": [
    "Ser_Man=df_manh['Existing Occupancy'].value_counts(normalize=True)\n",
    "Ser_Man['RES']"
   ]
  },
  {
   "cell_type": "markdown",
   "metadata": {},
   "source": [
    "- Section 1 - Part 6"
   ]
  },
  {
   "cell_type": "code",
   "execution_count": 741,
   "metadata": {},
   "outputs": [
    {
     "name": "stdout",
     "output_type": "stream",
     "text": [
      "(102348, 97)\n",
      "80851\n",
      "(43397, 97)\n",
      "34139\n"
     ]
    }
   ],
   "source": [
    "mask7=df_2013['Borough']=='QUEENS'\n",
    "df_QUEENS=df_2013[mask7]\n",
    "print(df_QUEENS.shape)\n",
    "no_succ_QUEENS=df_QUEENS['Fully Permitted'].isnull().sum()\n",
    "succ_QUEENS=len(df_QUEENS)-no_succ_QUEENS\n",
    "print(succ_QUEENS)\n",
    "\n",
    "mask8=df_2013['Borough']=='BRONX'\n",
    "df_BRONX=df_2013[mask8]\n",
    "print(df_BRONX.shape)\n",
    "no_succ_BRONX=df_BRONX['Fully Permitted'].isnull().sum()\n",
    "succ_BRONX=len(df_BRONX)-no_succ_BRONX\n",
    "print(succ_BRONX)"
   ]
  },
  {
   "cell_type": "code",
   "execution_count": 742,
   "metadata": {},
   "outputs": [],
   "source": [
    "observed_BRONX = succ_BRONX\n",
    "succ_ratio_QUEENS = succ_QUEENS/len(df_QUEENS) \n",
    "expected_BRONX = succ_ratio_QUEENS * len(df_BRONX)\n",
    "List_observed_BRONX=[observed_BRONX]*len(df_BRONX)\n",
    "List_expected_BRONX=[expected_BRONX]*len(df_BRONX)"
   ]
  },
  {
   "cell_type": "code",
   "execution_count": 743,
   "metadata": {},
   "outputs": [
    {
     "data": {
      "text/plain": [
       "Power_divergenceResult(statistic=25874.43202549801, pvalue=1.0)"
      ]
     },
     "execution_count": 743,
     "metadata": {},
     "output_type": "execute_result"
    }
   ],
   "source": [
    "import scipy.stats as stats\n",
    "from scipy.stats import chisquare\n",
    "stats.chisquare(f_obs= List_observed_BRONX,  \n",
    "                f_exp= List_expected_BRONX )"
   ]
  },
  {
   "cell_type": "markdown",
   "metadata": {},
   "source": [
    "- Section 1 - Part 7"
   ]
  },
  {
   "cell_type": "code",
   "execution_count": 745,
   "metadata": {},
   "outputs": [
    {
     "data": {
      "text/plain": [
       "(137658, 97)"
      ]
     },
     "execution_count": 745,
     "metadata": {},
     "output_type": "execute_result"
    }
   ],
   "source": [
    "mask9=df_2013['Borough']=='BROOKLYN'\n",
    "df_BROOKLYN=df_2013[mask9]\n",
    "df_BROOKLYN.shape"
   ]
  },
  {
   "cell_type": "code",
   "execution_count": 746,
   "metadata": {},
   "outputs": [
    {
     "name": "stdout",
     "output_type": "stream",
     "text": [
      "(137658, 3)\n",
      "(105019, 3)\n"
     ]
    }
   ],
   "source": [
    "feat_BROOKLYN=['Fully Permitted','Pre- Filing Date','file_year']\n",
    "df_BROOKLYN=df_BROOKLYN[feat_BROOKLYN]\n",
    "print(df_BROOKLYN.shape)\n",
    "df_BROOKLYN.dropna(inplace=True)\n",
    "print(df_BROOKLYN.shape)"
   ]
  },
  {
   "cell_type": "code",
   "execution_count": 747,
   "metadata": {},
   "outputs": [],
   "source": [
    "result=[]\n",
    "for date in df_BROOKLYN['Pre- Filing Date']:\n",
    "    \n",
    "    objDate=datetime.strptime(date, '%m/%d/%Y')\n",
    "    result.append(objDate)\n",
    "df_BROOKLYN['prefile']=result"
   ]
  },
  {
   "cell_type": "code",
   "execution_count": 748,
   "metadata": {},
   "outputs": [],
   "source": [
    "result=[]\n",
    "for date in df_BROOKLYN['Fully Permitted']:\n",
    "    \n",
    "    objDate=datetime.strptime(date, '%m/%d/%Y')\n",
    "    result.append(objDate)\n",
    "df_BROOKLYN['permit']=result"
   ]
  },
  {
   "cell_type": "code",
   "execution_count": 749,
   "metadata": {},
   "outputs": [],
   "source": [
    "df_BROOKLYN['interval']=df_BROOKLYN['permit']-df_BROOKLYN['prefile']"
   ]
  },
  {
   "cell_type": "code",
   "execution_count": 750,
   "metadata": {},
   "outputs": [],
   "source": [
    "df_BROOKLYN['interval']=(df_BROOKLYN['interval'] / np.timedelta64(1, 'D')).astype(int)"
   ]
  },
  {
   "cell_type": "code",
   "execution_count": 751,
   "metadata": {},
   "outputs": [],
   "source": [
    "df_BROOKLYN['file_year']=df_BROOKLYN['file_year'].astype(int)\n",
    "mask10=df_BROOKLYN['interval']>=0\n",
    "df_BROOKLYN=df_BROOKLYN[mask10]"
   ]
  },
  {
   "cell_type": "code",
   "execution_count": 752,
   "metadata": {},
   "outputs": [
    {
     "data": {
      "text/plain": [
       "0.007995994214466728"
      ]
     },
     "execution_count": 752,
     "metadata": {},
     "output_type": "execute_result"
    }
   ],
   "source": [
    "from sklearn.linear_model import LinearRegression\n",
    "from sklearn.metrics import r2_score\n",
    "from sklearn import preprocessing\n",
    "\n",
    "X=df_BROOKLYN['file_year'].values.reshape(-1, 1)\n",
    "y=df_BROOKLYN['interval']\n",
    "\n",
    "reg = LinearRegression().fit(X, y)\n",
    "reg.score(X, y)"
   ]
  },
  {
   "cell_type": "code",
   "execution_count": 495,
   "metadata": {},
   "outputs": [
    {
     "data": {
      "text/plain": [
       "<matplotlib.axes._subplots.AxesSubplot at 0x1bdd8c9a50>"
      ]
     },
     "execution_count": 495,
     "metadata": {},
     "output_type": "execute_result"
    },
    {
     "data": {
      "image/png": "[encoded data removed]",
      "text/plain": [
       "<Figure size 432x288 with 1 Axes>"
      ]
     },
     "metadata": {
      "needs_background": "light"
     },
     "output_type": "display_data"
    }
   ],
   "source": [
    "import seaborn as sns\n",
    "sns.regplot(x=\"file_year\", y=\"interval\", data=df_BROOKLYN)"
   ]
  },
  {
   "cell_type": "markdown",
   "metadata": {},
   "source": [
    "- Section 2 - Part 2,3"
   ]
  },
  {
   "cell_type": "code",
   "execution_count": 758,
   "metadata": {},
   "outputs": [],
   "source": [
    "def moveDisks(diskPositions, largestToMove, targetPeg):\n",
    "    for badDisk in range(largestToMove, len(diskPositions)):\n",
    "\n",
    "        currentPeg = diskPositions[badDisk]         \n",
    "        if currentPeg != targetPeg:\n",
    "            #if the largest disk on the wrong peg\n",
    "\n",
    "            #sum of the peg numbers is 3, so to find the other one\n",
    "            otherPeg = 3 - targetPeg - currentPeg\n",
    "\n",
    "            #before we can move badDisk, we have get the smaller ones out of the way\n",
    "            moveDisks(diskPositions, badDisk+1, otherPeg)\n",
    "            \n",
    "            move(badDisk,currentPeg,targetPeg)\n",
    "            diskPositions[badDisk]=targetPeg\n",
    "\n",
    "            #now we can put the smaller ones in the right place\n",
    "            moveDisks(diskPositions, badDisk+1, targetPeg)\n",
    "            \n",
    "            break;\n",
    "def move(badDisk,currentPeg,targetPeg):\n",
    "    global c\n",
    "    print(\"Move \", badDisk, \" from \", currentPeg, \" to \", targetPeg)\n",
    "    c=c+1"
   ]
  },
  {
   "cell_type": "code",
   "execution_count": 754,
   "metadata": {},
   "outputs": [
    {
     "name": "stdout",
     "output_type": "stream",
     "text": [
      "659\n"
     ]
    }
   ],
   "source": [
    "c = \"global\"\n",
    "c=0\n",
    "moveDisks([1,2,0,1,1,0,2,2,1,1], 0, 0)\n",
    "print(c)"
   ]
  },
  {
   "cell_type": "code",
   "execution_count": 755,
   "metadata": {},
   "outputs": [
    {
     "name": "stdout",
     "output_type": "stream",
     "text": [
      "21103\n"
     ]
    }
   ],
   "source": [
    "c=0\n",
    "moveDisks([1,2,0,1,1,0,2,2,1,1,2,1,1,0,2], 0, 0)\n",
    "print(c)"
   ]
  },
  {
   "cell_type": "markdown",
   "metadata": {},
   "source": [
    "- Section 2 - Part 4,5,6"
   ]
  },
  {
   "cell_type": "code",
   "execution_count": 779,
   "metadata": {},
   "outputs": [],
   "source": [
    "def moveDisks2(diskPositions, largestToMove, targetPeg):\n",
    "    for badDisk in range(largestToMove, len(diskPositions)):\n",
    "\n",
    "        currentPeg = diskPositions[badDisk]         \n",
    "        if currentPeg != targetPeg:\n",
    "            #if the largest disk on the wrong peg\n",
    "\n",
    "            otherPeg1 = 4 - targetPeg - currentPeg\n",
    "            #before we can move badDisk, we have get the smaller ones out of the way\n",
    "            moveDisks2(diskPositions, badDisk+1, otherPeg1)\n",
    "            \n",
    "            move(badDisk,currentPeg,targetPeg)\n",
    "            diskPositions[badDisk]=targetPeg\n",
    "            \n",
    "            #now we can put the smaller ones in the right place\n",
    "            moveDisks2(diskPositions, badDisk+1, targetPeg)\n",
    "            \n",
    "            break;\n",
    "def move(badDisk,currentPeg,targetPeg):\n",
    "    global c\n",
    "    #print(\"Move \", badDisk, \" from \", currentPeg, \" to \", targetPeg)\n",
    "    c=c+1"
   ]
  },
  {
   "cell_type": "code",
   "execution_count": 788,
   "metadata": {},
   "outputs": [
    {
     "name": "stdout",
     "output_type": "stream",
     "text": [
      "659\n"
     ]
    }
   ],
   "source": [
    "c=0\n",
    "moveDisks([1,2,0,1,1,0,2,2,1,1], 0, 0)\n",
    "print(c)"
   ]
  },
  {
   "cell_type": "code",
   "execution_count": 783,
   "metadata": {},
   "outputs": [
    {
     "name": "stdout",
     "output_type": "stream",
     "text": [
      "5630\n"
     ]
    }
   ],
   "source": [
    "c=0\n",
    "moveDisks([1,2,0,1,3,0,3,2,1,1,0,3,2], 0, 0)\n",
    "print(c)"
   ]
  },
  {
   "cell_type": "code",
   "execution_count": 787,
   "metadata": {},
   "outputs": [
    {
     "name": "stdout",
     "output_type": "stream",
     "text": [
      "11260\n"
     ]
    }
   ],
   "source": [
    "c=0\n",
    "moveDisks([1,2,0,1,3,0,3,2,1,1,0,3,2,2], 0, 0)\n",
    "print(c)"
   ]
  },
  {
   "cell_type": "code",
   "execution_count": null,
   "metadata": {},
   "outputs": [],
   "source": []
  }
 ],
 "metadata": {
  "kernelspec": {
   "display_name": "Python 3",
   "language": "python",
   "name": "python3"
  },
  "language_info": {
   "codemirror_mode": {
    "name": "ipython",
    "version": 3
   },
   "file_extension": ".py",
   "mimetype": "text/x-python",
   "name": "python",
   "nbconvert_exporter": "python",
   "pygments_lexer": "ipython3",
   "version": "3.7.4"
  }
 },
 "nbformat": 4,
 "nbformat_minor": 4
}
