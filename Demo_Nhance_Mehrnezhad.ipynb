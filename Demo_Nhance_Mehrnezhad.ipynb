{
 "cells": [
  {
   "cell_type": "code",
   "execution_count": 1,
   "metadata": {},
   "outputs": [],
   "source": [
    "import pandas as pd\n",
    "import numpy as np\n",
    "import matplotlib.pyplot as plt\n",
    "import seaborn as sns\n",
    "from pandas import ExcelWriter\n",
    "from pandas import ExcelFile"
   ]
  },
  {
   "cell_type": "markdown",
   "metadata": {},
   "source": [
    "- In this Demo I used Nhances data to predict the diabetic people and people at risk of diabetes through logistic regression classifier. \n",
    "\n",
    "- I chose some of the well-known important features which are correlated with the health.These features include: Age, Gender, Race, Weight, Height, BMI, waiste circumference as a body anthropometry measure,and body fat compositions(which can be predicted from 3D body anthropometry measurements with 0.9> accuracy). \n"
   ]
  },
  {
   "cell_type": "code",
   "execution_count": 49,
   "metadata": {},
   "outputs": [],
   "source": [
    "address='/Users/Ali/Desktop/Data_Sima/NHANES-6-21-17.xlsx'\n",
    "df=pd.read_excel(address, sheet_name='adults')\n",
    "feature_set_1=['RIAGENDR','RIDAGEYR','RACETH','bmxwt','bmxht','bmxbmi','bmxwaist','lbxglu','BMXTRI','DXXHEBMC','DXXHEFAT','DXXTRFAT','DXDTOFAT']"
   ]
  },
  {
   "cell_type": "markdown",
   "metadata": {},
   "source": [
    "- Two classes are defined: \n",
    "- class 1:Healthy people  (lbxglu <100)\n",
    "- class 2:Diabetic people and people at risk of diabetes (lbxglu >100)"
   ]
  },
  {
   "cell_type": "code",
   "execution_count": 50,
   "metadata": {},
   "outputs": [
    {
     "name": "stderr",
     "output_type": "stream",
     "text": [
      "/opt/anaconda3/lib/python3.7/site-packages/ipykernel_launcher.py:2: SettingWithCopyWarning: \n",
      "A value is trying to be set on a copy of a slice from a DataFrame.\n",
      "Try using .loc[row_indexer,col_indexer] = value instead\n",
      "\n",
      "See the caveats in the documentation: http://pandas.pydata.org/pandas-docs/stable/user_guide/indexing.html#returning-a-view-versus-a-copy\n",
      "  \n",
      "/opt/anaconda3/lib/python3.7/site-packages/ipykernel_launcher.py:3: SettingWithCopyWarning: \n",
      "A value is trying to be set on a copy of a slice from a DataFrame\n",
      "\n",
      "See the caveats in the documentation: http://pandas.pydata.org/pandas-docs/stable/user_guide/indexing.html#returning-a-view-versus-a-copy\n",
      "  This is separate from the ipykernel package so we can avoid doing imports until\n"
     ]
    },
    {
     "data": {
      "text/plain": [
       "(7772, 14)"
      ]
     },
     "execution_count": 50,
     "metadata": {},
     "output_type": "execute_result"
    }
   ],
   "source": [
    "df_diab=df[feature_set_1];\n",
    "df_diab['diabetic']= df_diab['lbxglu'].apply(lambda x: 1 if (x>100)  else 0)\n",
    "df_diab.dropna(inplace=True)\n",
    "df_diab.shape"
   ]
  },
  {
   "cell_type": "markdown",
   "metadata": {},
   "source": [
    "- Here I am running some initial visualization to learn about the data distribution.For instance ploting histogram of \"total body fat\" for two genders, shows that as the total fat increases ratio of diabetic people (class 1) to healthy people (class 0) increases. Also it shows that there are more diabetics among females(gender=1)compared to the males (gender=2).\n",
    "- Initial analysis like this can give us more insight for feature selection, finding the outliers and model selection."
   ]
  },
  {
   "cell_type": "code",
   "execution_count": 20,
   "metadata": {},
   "outputs": [
    {
     "data": {
      "image/png": "[encoded data removed]",
      "text/plain": [
       "<Figure size 432x216 with 2 Axes>"
      ]
     },
     "metadata": {
      "needs_background": "light"
     },
     "output_type": "display_data"
    }
   ],
   "source": [
    "bins = np.linspace(df_diab.DXDTOFAT.min(), df_diab.DXDTOFAT.max(), 10)\n",
    "g = sns.FacetGrid(df_diab, col=\"RIAGENDR\", hue=\"diabetic\", palette=\"Set1\", col_wrap=2)\n",
    "g.map(plt.hist, 'DXDTOFAT', bins=bins, ec=\"k\")\n",
    "\n",
    "g.axes[-1].legend()\n",
    "plt.show()"
   ]
  },
  {
   "cell_type": "markdown",
   "metadata": {},
   "source": [
    "- Here we can clearly observe that distribution of waist circumfrence for healthy people and diabetics are different. This indicades that waist circumfrence is an important and informative feature in the modeling."
   ]
  },
  {
   "cell_type": "code",
   "execution_count": 55,
   "metadata": {},
   "outputs": [
    {
     "data": {
      "image/png": "[encoded data removed]",
      "text/plain": [
       "<Figure size 432x216 with 2 Axes>"
      ]
     },
     "metadata": {
      "needs_background": "light"
     },
     "output_type": "display_data"
    }
   ],
   "source": [
    "bins = np.linspace(df_diab.bmxwaist.min(), df_diab.bmxwaist.max(), 10)\n",
    "g = sns.FacetGrid(df_diab, col=\"RIAGENDR\", hue=\"diabetic\", palette=\"Set1\", col_wrap=2)\n",
    "g.map(plt.hist, 'bmxwaist', bins=bins, ec=\"k\")\n",
    "\n",
    "g.axes[-1].legend()\n",
    "plt.show()"
   ]
  },
  {
   "cell_type": "markdown",
   "metadata": {},
   "source": [
    "- Grouping the people based on their gender demostrate that risk of diabetes is higher in females than males. 41% in females versus 29% in males"
   ]
  },
  {
   "cell_type": "code",
   "execution_count": 21,
   "metadata": {},
   "outputs": [
    {
     "data": {
      "text/plain": [
       "RIAGENDR  diabetic\n",
       "1         0           0.580886\n",
       "          1           0.419114\n",
       "2         0           0.709232\n",
       "          1           0.290768\n",
       "Name: diabetic, dtype: float64"
      ]
     },
     "execution_count": 21,
     "metadata": {},
     "output_type": "execute_result"
    }
   ],
   "source": [
    "df_diab.groupby(['RIAGENDR'])['diabetic'].value_counts(normalize=True)"
   ]
  },
  {
   "cell_type": "code",
   "execution_count": 36,
   "metadata": {},
   "outputs": [
    {
     "name": "stdout",
     "output_type": "stream",
     "text": [
      "Train set: (6217, 12) (6217,)\n",
      "Test set: (1555, 12) (1555,)\n"
     ]
    }
   ],
   "source": [
    "\n",
    "from sklearn.model_selection import train_test_split\n",
    "\n",
    "feature_set_2=['RIAGENDR','RIDAGEYR','RACETH','bmxwt','bmxht','bmxbmi','bmxwaist','BMXTRI','DXXHEBMC','DXXHEFAT','DXXTRFAT','DXDTOFAT']\n",
    "\n",
    "X=df_diab[feature_set_2]\n",
    "y=df_diab['diabetic']\n",
    "\n",
    "X_train, X_test, y_train, y_test = train_test_split(X, y, test_size=0.2, random_state=4)\n",
    "print ('Train set:', X_train.shape,  y_train.shape)\n",
    "print ('Test set:', X_test.shape,  y_test.shape)"
   ]
  },
  {
   "cell_type": "markdown",
   "metadata": {},
   "source": [
    "- Logistic regression is used for classification and date is splitted in test and train set. The model shows F1-score of 0.72 which has more room for improvement.\n",
    "- The confusion matrix and classification report metrics are printed showing the performance on the model."
   ]
  },
  {
   "cell_type": "code",
   "execution_count": 48,
   "metadata": {},
   "outputs": [
    {
     "name": "stdout",
     "output_type": "stream",
     "text": [
      "              precision    recall  f1-score   support\n",
      "\n",
      "           0       0.84      0.68      0.75       995\n",
      "           1       0.57      0.76      0.65       560\n",
      "\n",
      "    accuracy                           0.71      1555\n",
      "   macro avg       0.70      0.72      0.70      1555\n",
      "weighted avg       0.74      0.71      0.72      1555\n",
      "\n",
      "[[677 318]\n",
      " [133 427]]\n"
     ]
    },
    {
     "name": "stderr",
     "output_type": "stream",
     "text": [
      "/opt/anaconda3/lib/python3.7/site-packages/sklearn/linear_model/logistic.py:432: FutureWarning: Default solver will be changed to 'lbfgs' in 0.22. Specify a solver to silence this warning.\n",
      "  FutureWarning)\n"
     ]
    }
   ],
   "source": [
    "from sklearn.linear_model import LogisticRegression\n",
    "from sklearn.metrics import confusion_matrix \n",
    "from sklearn.metrics import classification_report\n",
    "LR_model = LogisticRegression(C=0.01,class_weight='balanced').fit(X_train,y_train)\n",
    "\n",
    "yhat = LR_model.predict(X_test)\n",
    "\n",
    "print (classification_report(y_test,yhat ))\n",
    "print(confusion_matrix(y_test, yhat, labels=[0,1]))"
   ]
  }
 ],
 "metadata": {
  "kernelspec": {
   "display_name": "Python 3",
   "language": "python",
   "name": "python3"
  },
  "language_info": {
   "codemirror_mode": {
    "name": "ipython",
    "version": 3
   },
   "file_extension": ".py",
   "mimetype": "text/x-python",
   "name": "python",
   "nbconvert_exporter": "python",
   "pygments_lexer": "ipython3",
   "version": "3.7.4"
  }
 },
 "nbformat": 4,
 "nbformat_minor": 4
}
